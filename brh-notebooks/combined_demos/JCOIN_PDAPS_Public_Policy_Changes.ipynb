{
 "cells": [
  {
   "cell_type": "markdown",
   "id": "0df1ada8-64d0-458a-93ff-26d7e720e739",
   "metadata": {},
   "source": [
    "# Visualizing Changes In Opioid Treatment Policy\n",
    "\n",
    "*Please note: This notebook uses open access data*    \n",
    "*Please note:  JCOIN Google Login in the BRH Profile Page needs to be authorized*\n",
    "\n",
    "\n",
    "#### J Montgomery Maxwell"
   ]
  },
  {
   "cell_type": "code",
   "execution_count": null,
   "id": "4ccb6f68-8b0d-494b-9746-1c4f7956c008",
   "metadata": {},
   "outputs": [],
   "source": [
    "import pandas as pd\n",
    "import numpy as np\n",
    "import openpyxl\n",
    "import plotly.express as px\n",
    "import requests\n",
    "import json"
   ]
  },
  {
   "cell_type": "markdown",
   "id": "6d690cff-ed63-47a1-8187-fb68ae6987bf",
   "metadata": {},
   "source": [
    "### Define Data Mappings"
   ]
  },
  {
   "cell_type": "markdown",
   "id": "15bdc217-c16f-4292-a588-1d7fd5888860",
   "metadata": {},
   "source": [
    "Dictionary for mapping the names of States and Territories to their respective abbreviations. Create additional mappings for cleaning data.\n"
   ]
  },
  {
   "cell_type": "code",
   "execution_count": null,
   "id": "3bc88a8a-629f-4a0f-acd7-1c9cdd2dc3e0",
   "metadata": {},
   "outputs": [],
   "source": [
    "state_abbrev = {\n",
    "    \"Alabama\": \"AL\", \"Alaska\": \"AK\", \"Arizona\": \"AZ\", \"Arkansas\": \"AR\", \"California\": \"CA\", \"Colorado\": \"CO\", \n",
    "    \"Connecticut\": \"CT\", \"Delaware\": \"DE\", \"Florida\": \"FL\", \"Georgia\": \"GA\", \"Hawaii\": \"HI\", \"Idaho\": \"ID\",\n",
    "    \"Illinois\": \"IL\", \"Indiana\": \"IN\", \"Iowa\": \"IA\", \"Kansas\": \"KS\", \"Kentucky\": \"KY\", \"Louisiana\": \"LA\",\n",
    "    \"Maine\": \"ME\", \"Maryland\": \"MD\", \"Massachusetts\": \"MA\", \"Michigan\": \"MI\", \"Minnesota\": \"MN\", \n",
    "    \"Mississippi\": \"MS\", \"Missouri\": \"MO\", \"Montana\": \"MT\", \"Nebraska\": \"NE\", \"Nevada\": \"NV\",\n",
    "    \"New Hampshire\": \"NH\", \"New Jersey\": \"NJ\", \"New Mexico\": \"NM\", \"New York\": \"NY\", \"North Carolina\": \"NC\", \n",
    "    \"North Dakota\": \"ND\", \"Ohio\": \"OH\",  \"Oklahoma\": \"OK\", \"Oregon\": \"OR\", \"Pennsylvania\": \"PA\", \n",
    "    \"Rhode Island\": \"RI\", \"South Carolina\": \"SC\", \"South Dakota\": \"SD\", \"Tennessee\": \"TN\", \"Texas\": \"TX\", \n",
    "    \"Utah\": \"UT\", \"Vermont\": \"VT\", \"Virginia\": \"VA\", \"Washington\": \"WA\", \"West Virginia\": \"WV\", \n",
    "    \"Wisconsin\": \"WI\", \"Wyoming\": \"WY\", \"District of Columbia\": \"DC\", \"American Samoa\": \"AS\", \"Guam\": \"GU\", \n",
    "    \"Northern Mariana Islands\": \"MP\", \"Puerto Rico\": \"PR\", \"United States Minor Outlying Islands\": \"UM\", \n",
    "    \"U.S. Virgin Islands\": \"VI\"}\n",
    "\n",
    "policyMap = {0: 'Not Approved', 1:'Approved'}\n",
    "waiverMap = {'.': 0, 0:0, 1:1}"
   ]
  },
  {
   "cell_type": "markdown",
   "id": "c0fbb2ac-bf4a-43fd-97a8-e737cb357e57",
   "metadata": {},
   "source": [
    "### Import And Clean Data"
   ]
  },
  {
   "cell_type": "markdown",
   "id": "2c427d70-5271-4e5a-ba47-998d8ab4ca39",
   "metadata": {},
   "source": [
    "Import data using the Gen3 Python SDK. Importing three data files and their respective codebooks."
   ]
  },
  {
   "cell_type": "code",
   "execution_count": null,
   "id": "ccbcf9b6-7b97-447f-b4bf-dd4c39f24a9c",
   "metadata": {},
   "outputs": [],
   "source": [
    "!gen3 drs-pull object dg.6VTS/5200158e-e9fe-44ef-96c9-e89ecd402fc4\n",
    "!gen3 drs-pull object dg.6VTS/2b83e419-8d3d-4569-b9a1-a52ecd387cba\n",
    "!gen3 drs-pull object dg.6VTS/a0a8785a-8663-47b9-95ea-a1813612a2f1\n",
    "!gen3 drs-pull object dg.6VTS/abe9cd49-fc86-4c9b-b9d0-f8c0280d8aaa\n",
    "!gen3 drs-pull object dg.6VTS/b7974ffe-2e46-47cf-9d57-4d8900d7a40f\n",
    "!gen3 drs-pull object dg.6VTS/dca15d95-aac5-4879-88cb-3a740398f26c"
   ]
  },
  {
   "cell_type": "markdown",
   "id": "58863741-9e15-4d1c-9763-926c092035b7",
   "metadata": {},
   "source": [
    "Here we look at three key features for U.S. States. The code name for the policy is listed at the end of each line. \n",
    "- Has the state approved telehealth MOUD treatment with buprenorphine or methadone for existing opioid treatment  patients? (Telehealth Treatment)\n",
    "- Has the state received an approved section 1115 Medicaid waiver that explicitely address SUD treatment? (SUD Medicaid Waiver)\n",
    "- Have state correctional facilities approved modified policies explicitly related to MOUD treatment during COVID-19? (Incarceration MOUD Treatment)"
   ]
  },
  {
   "cell_type": "code",
   "execution_count": null,
   "id": "29801651-28c7-407e-bba2-3e18f2f96875",
   "metadata": {},
   "outputs": [],
   "source": [
    "df1 = pd.read_excel('buprenorphine-and-methadone-during-covid-19-data-020222.xlsx')\n",
    "df2 = pd.read_excel('covid-19-state-medicaid-waivers-data-020222.xlsx')\n",
    "df3 = pd.read_excel('covid-19-moud-at-state-correctional-facilities-data-020222.xlsx')\n",
    "\n",
    "df1['Policy Change'] = ((df1['Telehealth_existing_bup'] + df1['Telehealth_existing_methadone']) != 0).astype(int)\n",
    "df1['Policy'] = 'Telehealth MOUD Treatment'\n",
    "df1 = df1[['Jurisdictions', 'Policy Change', 'Policy']]\n",
    "\n",
    "df2['Policy Change'] = df2['JM_15sud'].map(waiverMap)\n",
    "df2['Policy'] = 'SUD Medicaid Waiver'\n",
    "df2 = df2[['Jurisdictions', 'Policy Change', 'Policy']]\n",
    "\n",
    "df3['Policy Change'] = df3['JC_MOUDlaw']\n",
    "df3['Policy'] = 'MOUD Treatment While Incarcerated'\n",
    "df3 = df3[['Jurisdictions', 'Policy Change', 'Policy']]\n",
    "\n",
    "df = pd.concat([df1, df2, df3],ignore_index=True)\n",
    "df['Abbreviations'] = df['Jurisdictions'].map(state_abbrev)\n",
    "df['Change In Policy'] = df['Policy Change'].map(policyMap)\n",
    "df = df[['Jurisdictions', 'Abbreviations', 'Change In Policy', 'Policy']]\n",
    "df"
   ]
  },
  {
   "cell_type": "markdown",
   "id": "5b257269-13b5-4227-9d0d-11ec9c3d73b8",
   "metadata": {},
   "source": [
    "## Single & Multi Feature Choropleth Maps"
   ]
  },
  {
   "cell_type": "markdown",
   "id": "94db4add-974e-4c36-a7bf-18ff5bddef6e",
   "metadata": {},
   "source": [
    "You can create choropleth maps using the plotly.express.choropleth package. \n",
    "\n",
    "Both discrete and continuous data can be represented in these plots. "
   ]
  },
  {
   "cell_type": "code",
   "execution_count": null,
   "id": "3d4d1b17-945e-4162-9198-27f7b7803471",
   "metadata": {},
   "outputs": [],
   "source": [
    "fig = px.choropleth(df[df['Policy'] == 'Telehealth MOUD Treatment'], locations='Abbreviations', locationmode=\"USA-states\", \n",
    "                    color='Change In Policy', color_discrete_map={'Not Approved':'Gray', 'Approved':'Purple'}, \n",
    "                    scope='usa', title='Telehealth MOUD Treatment With Buprenorphine Or Methadone')\n",
    "fig.show()"
   ]
  },
  {
   "cell_type": "markdown",
   "id": "7e9ea5ed-404c-4c05-b253-fee0ece5d9a1",
   "metadata": {},
   "source": [
    "You can show multiple features or the same feature over a period of time using the 'animation_frame' argument. Here we create an interactive plot which allows us to toggle between the three changes in public health policy which we are investigating. "
   ]
  },
  {
   "cell_type": "code",
   "execution_count": null,
   "id": "d43829f0-f8ac-4232-923c-950b7f91cec2",
   "metadata": {},
   "outputs": [],
   "source": [
    "fig = px.choropleth(df, locations='Abbreviations', locationmode=\"USA-states\", color='Change In Policy', \n",
    "                    color_discrete_map={'Not Approved':'Gray', 'Approved':'Purple'}, animation_frame='Policy', \n",
    "                    scope='usa', title='Changes In Opioid Treatment Policy During COVID-19')\n",
    "fig.show()"
   ]
  },
  {
   "cell_type": "code",
   "execution_count": null,
   "id": "713ec50b-7dc2-4bac-a8e4-be7703feb3c1",
   "metadata": {},
   "outputs": [],
   "source": []
  }
 ],
 "metadata": {
  "kernelspec": {
   "display_name": "Python 3 (ipykernel)",
   "language": "python",
   "name": "python3"
  },
  "language_info": {
   "codemirror_mode": {
    "name": "ipython",
    "version": 3
   },
   "file_extension": ".py",
   "mimetype": "text/x-python",
   "name": "python",
   "nbconvert_exporter": "python",
   "pygments_lexer": "ipython3",
   "version": "3.9.6"
  }
 },
 "nbformat": 4,
 "nbformat_minor": 5
}
