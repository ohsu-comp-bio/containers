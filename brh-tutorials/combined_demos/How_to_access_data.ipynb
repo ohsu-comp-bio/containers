{
 "cells": [
  {
   "cell_type": "markdown",
   "id": "01dd28b5-9cd5-41de-bb71-7f25db5c3356",
   "metadata": {
    "tags": []
   },
   "source": [
    "# Data Access: Ways to bring data into the Biomedical Research Hub (BRH) workspace\n",
    "As a new user, you may be interested in exploring different ways to access data in BRH. In this notebook we will use some open access data to demonstate a few different ways to bring data into the BRH workspace and use the Gen3 SDK to download files: \n",
    "1. Using a downloaded manifest.json (Manifest)\n",
    "2. Download a single file using its identifier (Single file)\n",
    "3. Open project in workspace\n",
    "4. Download zip files using Gen3 SDK\n",
    "5. Using the gen3 SDK and GraphQL to explore data in a project (API)\n",
    "\n",
    "# 1. Using a downloaded manifest.json (Manifest method)\n",
    "## Objective\n",
    "Bring in open access JCOIN study \"OEPS\" into this notebook using a manifest file\n",
    "\n",
    "## Pre-requisite\n",
    "1. JCOIN Data Commons is Linked in the [BRH Profile Page](https://brh.data-commons.org/identity)\n",
    "\n",
    "## Steps to download manifest file\n",
    "1. Go to the [BRH Discovery page](https://brh.data-commons.org/) \n",
    "2. In the \"Search studies by keyword\" box, type OEPS. The OEPS study details are listed below:\n",
    "\t\n",
    "\t\t STUDY NAME = Methodology and Advanced Analytics Resource Center, \n",
    "\t\t FULL NAME = Opioid Environment Policy Scan (OEPS), \n",
    "\t\t ID Number = 1U2CDA050098-01_b, \n",
    "\t\t Data Commons = JCOIN\n",
    "3. Select the study by clicking the check box on the left for OEPS.\n",
    "4. Click \"Download\" button to download the manifest file\n",
    "5. To bring the downloaded manifest.json into this workspace, upload the file using the \"Upload Files\" up arrow under jupyter \"Run\". *[Reference help link](https://jupyterlab.readthedocs.io/en/stable/user/files.html#uploading-and-downloading)* \n"
   ]
  },
  {
   "cell_type": "code",
   "execution_count": null,
   "id": "d8eb4eab-53ce-4876-8e60-c0287b3e5f05",
   "metadata": {
    "tags": []
   },
   "outputs": [],
   "source": [
    "# import python libraries to test data access\n",
    "import os\n",
    "import json\n",
    "import glob\n",
    "import numpy as np\n",
    "import matplotlib.pyplot as plt\n",
    "import seaborn as sns\n",
    "import pandas as pd\n",
    "from zipfile import ZipFile"
   ]
  },
  {
   "cell_type": "markdown",
   "id": "c46d98a4-aeb6-4f28-b4d0-8c7e4f2f8665",
   "metadata": {},
   "source": [
    "#### Load manifest.json of the OEPS study\n"
   ]
  },
  {
   "cell_type": "code",
   "execution_count": null,
   "id": "b5463845-f461-4c0b-956c-2deac32966fa",
   "metadata": {},
   "outputs": [],
   "source": [
    "with open('manifest.json', 'r') as manifest:\n",
    "    manifest_data = json.load(manifest)"
   ]
  },
  {
   "cell_type": "markdown",
   "id": "40785cc6-70a2-400a-bfae-b4070e25d468",
   "metadata": {},
   "source": [
    "#### We will use gen3 SDK to download project files. Its already installed in the tutorial base image"
   ]
  },
  {
   "cell_type": "markdown",
   "id": "c9dc3b0f-0f45-434a-8482-88fb1e8a1a0b",
   "metadata": {},
   "source": [
    "#### The gen3 SDK command below lists all files in the manifest"
   ]
  },
  {
   "cell_type": "code",
   "execution_count": null,
   "id": "982ea666-59ea-4884-aad7-43bb3714201e",
   "metadata": {},
   "outputs": [],
   "source": [
    "!gen3 drs-pull ls manifest.json"
   ]
  },
  {
   "cell_type": "markdown",
   "id": "a99f8afe-d38a-43f3-af49-29bf9fad2717",
   "metadata": {},
   "source": [
    "#### The gen3 SDK command below downloads all the files from the manifest onto the current directory"
   ]
  },
  {
   "cell_type": "code",
   "execution_count": null,
   "id": "ed3a2f4b-1071-4384-a3d0-e2fb44b4e1a6",
   "metadata": {},
   "outputs": [],
   "source": [
    "!gen3  drs-pull manifest manifest.json"
   ]
  },
  {
   "cell_type": "markdown",
   "id": "b98c9118-34a7-4a92-a13b-851ac302df3f",
   "metadata": {},
   "source": [
    "# 2. Download a single file using its identifier (Single file)"
   ]
  },
  {
   "cell_type": "markdown",
   "id": "b682a50a-6f95-4aa1-b009-846140fed542",
   "metadata": {},
   "source": [
    "#### You can also pull individual files instead of all files. For example, let's check first five records in manifest_data"
   ]
  },
  {
   "cell_type": "code",
   "execution_count": null,
   "id": "14426b07-af47-4375-9c06-1ef43db2fb40",
   "metadata": {},
   "outputs": [],
   "source": [
    "manifest_data[:5]"
   ]
  },
  {
   "cell_type": "markdown",
   "id": "8e60b840-dd73-4247-8cb7-249c3653a830",
   "metadata": {},
   "source": [
    "#### The object_id field shows the Global Unique Identifier (GUID) for the file, a permanent identifier for the file that can be used to pull the file using the Gen3 SDK. This is the Single File method, where given a GUID, you can pull the file into the workspace"
   ]
  },
  {
   "cell_type": "code",
   "execution_count": null,
   "id": "775d76cc-21d5-4125-8c17-2f036d50abfa",
   "metadata": {},
   "outputs": [],
   "source": [
    "# Pull dg.6VTS/342e89bd-3d37-49be-8f97-ffb283649b9a\n",
    "!gen3 drs-pull object dg.6VTS/342e89bd-3d37-49be-8f97-ffb283649b9a"
   ]
  },
  {
   "cell_type": "markdown",
   "id": "0fd06099-e816-4892-9f2e-40c60dcb03ab",
   "metadata": {
    "tags": []
   },
   "source": [
    "# 3. Using 'open in workspace' feature\n",
    "## Objective\n",
    "Making use of \"open in workspace\" feature to open the project files in the workspace\n",
    "\n",
    "## Pre-requisite\n",
    "1. JCOIN Data Commons is Linked in the [BRH Profile Page](https://brh.data-commons.org/identity)\n",
    "\n",
    "## Steps\n",
    "1. Go to the [BRH Discovery page](https://brh.data-commons.org/) \n",
    "2. In the \"Search studies by keyword\" box, type OEPS. The OEPS study details are listed below:\n",
    "\t\n",
    "\t\t STUDY NAME = Methodology and Advanced Analytics Resource Center, \n",
    "\t\t FULL NAME = Opioid Environment Policy Scan (OEPS), \n",
    "\t\t ID Number = 1U2CDA050098-01_b, \n",
    "\t\t Data Commons = JCOIN\n",
    "3. Select the study by clicking the check box on the left for OEPS\n",
    "4. Click \"open in workspace\" \n",
    "\n",
    "> Data are imported in pd or persistent drive folder and live in\n",
    "> pd/data/brh-data-commons.org/exported-manifest-DATE. The most recent\n",
    "> exported manifest directory should have the files for the exported\n",
    "> project. These include the manifest.json and a python notebook\n",
    "> data.ipynb. The python notebook has commands to list files from the\n",
    "> manifest, download all files, and download individual files from\n",
    "> manifest."
   ]
  },
  {
   "cell_type": "markdown",
   "id": "486530fd-d3a3-4857-93f6-132bab4f3646",
   "metadata": {},
   "source": [
    "# 4. Downloading a zip file using Gen3 SDK\n",
    "## Objective\n",
    "Bring Canine Data Commons zip file *(caninepmed_sample_data.zip)* directly into BRH workspace using Gen3 APIs\n",
    "\n",
    "## Pre-requisite\n",
    "1. Canine Data Commons is Linked in the [BRH Profile Page](https://brh.data-commons.org/identity)\n",
    "2. Canine Data Object ID is known\n",
    "\n",
    "## Steps\n",
    "1. Use relevant gen3 API function to extract the zip file [Reference](https://uc-cdis.github.io/gen3sdk-python/_build/html/_modules/gen3/tools/download/drs_download.html) \n",
    "\n",
    "\n",
    "> You can then use standard python utilities for unpacking the zip file.\n",
    "> The snippet shown below extracts files into the caninepmed_sample_data\n",
    "> directory"
   ]
  },
  {
   "cell_type": "code",
   "execution_count": null,
   "id": "c69a3186-a8d7-4e7f-945a-7e9bb3ea5aba",
   "metadata": {},
   "outputs": [],
   "source": [
    "!gen3 drs-pull object dg.C78ne/b2d9ad49-979d-4de2-9f7f-b3d054593de0 --no-unpack-packages"
   ]
  },
  {
   "cell_type": "code",
   "execution_count": null,
   "id": "10573747-4966-4f68-a721-3cf2a3a6d3a2",
   "metadata": {},
   "outputs": [],
   "source": [
    "with ZipFile('caninepmed_sample_data.zip', 'r') as canine_zip:\n",
    "    # print all the contents of the zip file\n",
    "    # canine_zip.printdir()\n",
    "    # extract all the files\n",
    "    print('Extracting all the files now...')\n",
    "    canine_zip.extractall()\n",
    "    print('Done!')"
   ]
  },
  {
   "cell_type": "markdown",
   "id": "8753dd30-effc-4fcf-bff6-36ce2eb5ebbd",
   "metadata": {},
   "source": [
    "# 5. Using the Gen3 SDK and GraphQL to explore a project (API method)\n",
    "\n",
    "## Example: Framingham heart study from BioDataCatalyst\n",
    "## Objective\n",
    "The API method makes use of graphQL query with Gen3 SDK to bring in data from Biodatacatalyst into BRH Workspace. \n",
    "\n",
    "> In this tutorial, we will be bringing in the longitudinal Framingham\n",
    "> heart study from [Biodatacatalyst Data Commons](https://gen3.biodatacatalyst.nhlbi.nih.gov)\n",
    "\n",
    "## Pre-requiste\n",
    "1. BioDataCatalyst  is Linked in the [BRH Profile Page](https://brh.data-commons.org/identity)\n",
    "2. Structure of the [BDCatData Dictionary](https://gen3.biodatacatalyst.nhlbi.nih.gov/DD) is known\n",
    "\n",
    "## Steps\n",
    "1. Use relevant gen3 API query function to pass the graphql query and bring in data [Reference](https://uc-cdis.github.io/gen3sdk-python/_build/html/_modules/gen3/query.html#Gen3Query.query) \n",
    "\n",
    "\n",
    "> You can also search for the tutorial in the BRH discovery page. Search\n",
    "> for \"biolincc_framingham\" from the [discovery page](https://brh.data-commons.org/discovery). Click on the study. Note the project ID for the study. It is set to \"tutorial-biolincc_framingham\".\n",
    "> We will use this project ID to construct our query. You can learn\n",
    "> about the fields parameter for file in the docs [here](https://gen3.biodatacatalyst.nhlbi.nih.gov/query)\n"
   ]
  },
  {
   "cell_type": "code",
   "execution_count": null,
   "id": "758f2c76-8eac-4301-92b1-eec648ab2248",
   "metadata": {
    "tags": []
   },
   "outputs": [],
   "source": [
    "from gen3.file import Gen3File\n",
    "from gen3.submission import Gen3Submission\n",
    "from gen3.auth import Gen3Auth\n",
    "from gen3.index import Gen3Index\n",
    "from gen3.query import Gen3Query"
   ]
  },
  {
   "cell_type": "code",
   "execution_count": null,
   "id": "3b1b543a-3a45-4525-83d8-a0dcc838794c",
   "metadata": {},
   "outputs": [],
   "source": [
    "commons_url = \"https://gen3.biodatacatalyst.nhlbi.nih.gov\"\n",
    "auth = Gen3Auth(commons_url, refresh_file=\"/home/jovyan/.gen3/credentials.json\")\n",
    "sub = Gen3Submission(commons_url, auth) # Initialize an instance this class, using your creds in 'auth'\n",
    "query = Gen3Query(auth)"
   ]
  },
  {
   "cell_type": "code",
   "execution_count": null,
   "id": "926b39e9-815a-4de2-ad06-e85c014ebebc",
   "metadata": {},
   "outputs": [],
   "source": [
    "framingham_files = query.query(\n",
    "    data_type=\"file\",\n",
    "    first=10000,\n",
    "    fields=[\n",
    "        \"data_type\",\n",
    "        \"file_name\",\n",
    "        \"project_id\",\n",
    "        \"object_id\"\n",
    "    ],\n",
    "    filters={\"project_id\": \"tutorial-biolincc_framingham\"}\n",
    ")"
   ]
  },
  {
   "cell_type": "code",
   "execution_count": null,
   "id": "4e4c3503-b39b-43f0-af06-9c3399ec638d",
   "metadata": {},
   "outputs": [],
   "source": [
    "framingham_files"
   ]
  },
  {
   "cell_type": "markdown",
   "id": "46fa8f9c-44bd-4415-bff9-4887a6881d82",
   "metadata": {},
   "source": [
    "##### There are 8 files in this dataset"
   ]
  },
  {
   "cell_type": "code",
   "execution_count": null,
   "id": "a85e7837-3ddc-4cd5-9e39-c3ea3659d8d8",
   "metadata": {},
   "outputs": [],
   "source": [
    "len(framingham_files['data']['file'])"
   ]
  },
  {
   "cell_type": "markdown",
   "id": "7cf55aa0-0e58-4ada-92b2-53e97b8cc06e",
   "metadata": {},
   "source": [
    "##### You can also construct a graphQL query string and return the aggregate count, or total number of files for the project "
   ]
  },
  {
   "cell_type": "code",
   "execution_count": null,
   "id": "f9740e67-de76-4390-aff7-6eccfd6b1295",
   "metadata": {},
   "outputs": [],
   "source": [
    "aggregate_file_count_query_string = \"{_aggregation{file(filter: {eq: {project_id:\\\"tutorial-biolincc_framingham\\\"}}){_totalCount}}}\"\n"
   ]
  },
  {
   "cell_type": "code",
   "execution_count": null,
   "id": "f487a145-289b-4f5c-bdf1-0fe40e6fe65c",
   "metadata": {},
   "outputs": [],
   "source": [
    "total_number_of_files = query.graphql_query(aggregate_file_count_query_string)"
   ]
  },
  {
   "cell_type": "code",
   "execution_count": null,
   "id": "999a2ca2-8542-4432-b13c-d7c6a485bfcb",
   "metadata": {},
   "outputs": [],
   "source": [
    "total_number_of_files"
   ]
  },
  {
   "cell_type": "markdown",
   "id": "e7b50249-9c84-46a4-ae21-0dbacbe7fb77",
   "metadata": {},
   "source": [
    "##### You can construct a similar graphQL query string and return the aggregate count of subjects, or total number of subjects for the project "
   ]
  },
  {
   "cell_type": "code",
   "execution_count": null,
   "id": "83b45cdc-6ce7-484e-8347-d86b422ffd32",
   "metadata": {},
   "outputs": [],
   "source": [
    "aggregate_subject_count_query_string = \"{_aggregation{subject(filter: {eq: {project_id:\\\"tutorial-biolincc_framingham\\\"}}){_totalCount}}}\"\n"
   ]
  },
  {
   "cell_type": "code",
   "execution_count": null,
   "id": "33e80a3f-e2fc-4309-a486-22778b70f22a",
   "metadata": {},
   "outputs": [],
   "source": [
    "total_number_of_subjects = query.graphql_query(aggregate_subject_count_query_string)"
   ]
  },
  {
   "cell_type": "code",
   "execution_count": null,
   "id": "d8effcac-4313-4530-b740-3a6fa43b7024",
   "metadata": {},
   "outputs": [],
   "source": [
    "total_number_of_subjects"
   ]
  },
  {
   "cell_type": "markdown",
   "id": "08b40f53-68dc-4be4-9c51-722912c5e785",
   "metadata": {},
   "source": [
    "##### Look at some details for the first 10 subjects"
   ]
  },
  {
   "cell_type": "code",
   "execution_count": null,
   "id": "ede5b508-5241-4eb4-9e2c-756373203d60",
   "metadata": {},
   "outputs": [],
   "source": [
    "subjects = query.query(\n",
    "    data_type=\"subject\",\n",
    "    first=5,\n",
    "    fields=[\"_subject_id\", \"_samples_count\", \"age_at_index\", \"annotated_sex\"],\n",
    "    filters={\"project_id\": \"tutorial-biolincc_framingham\"}\n",
    ")"
   ]
  },
  {
   "cell_type": "code",
   "execution_count": null,
   "id": "93918daa-4580-4a97-9faf-d2c47697b6d0",
   "metadata": {},
   "outputs": [],
   "source": [
    "subjects['data']['subject'][:5]"
   ]
  },
  {
   "cell_type": "markdown",
   "id": "5c5b4126-13bf-4344-a63e-bae064c070b3",
   "metadata": {},
   "source": [
    "##### Apply filters to only return female subjects in this study"
   ]
  },
  {
   "cell_type": "code",
   "execution_count": null,
   "id": "6af41139-00c2-4ca2-b68f-1da959db79a2",
   "metadata": {},
   "outputs": [],
   "source": [
    "female_subjects = query.query(\n",
    "    data_type=\"subject\",\n",
    "    first=4434,\n",
    "    fields=[\"_subject_id\", \"_samples_count\", \"age_at_index\", \"annotated_sex\"],\n",
    "    filters={\"project_id\": \"tutorial-biolincc_framingham\", \"annotated_sex\": \"female\"}\n",
    ")"
   ]
  },
  {
   "cell_type": "code",
   "execution_count": null,
   "id": "739c190b-0198-4146-b0b2-75ce32b933bb",
   "metadata": {},
   "outputs": [],
   "source": [
    "len(female_subjects['data']['subject'])"
   ]
  },
  {
   "cell_type": "code",
   "execution_count": null,
   "id": "3348ec70-44cc-4ef3-8015-2b3e890b93c0",
   "metadata": {},
   "outputs": [],
   "source": [
    "gender = [sub['annotated_sex'] for sub in female_subjects['data']['subject']]"
   ]
  },
  {
   "cell_type": "code",
   "execution_count": null,
   "id": "1445b91e-10f7-45c8-a3c6-0790ed07a4b1",
   "metadata": {},
   "outputs": [],
   "source": [
    "np.unique(gender)"
   ]
  },
  {
   "cell_type": "markdown",
   "id": "0d7c7498-311f-402c-a3a6-c117f6dca46a",
   "metadata": {},
   "source": [
    "## Example: TCIA-COVID-19_CT_Images study from MIDRC\n",
    "## Objective\n",
    "The API method makes use of graphQL query with Gen3 SDK to bring in data from MIDRC into BRH Workspace. \n",
    "\n",
    "> In this tutorial, we will be bringing in the longitudinal Framingham\n",
    "> heart study from [MIDRC Data Commons](https://data.midrc.org)\n",
    "\n",
    "## Pre-requisite\n",
    "1. MIDRC  is Linked in the [BRH Profile Page](https://brh.data-commons.org/identity)\n",
    "2. Structure of the [MIDRC Dictionary](https://data.midrc.org/DD) is known\n",
    "\n",
    "## Steps\n",
    "1. Use relevant gen3 API query function to pass the graphql query and bring in data [Reference](https://uc-cdis.github.io/gen3sdk-python/_build/html/_modules/gen3/query.html#Gen3Query.query) \n",
    "\n",
    "> You can search for the TCIA-COVID-19_CT_Images in the BRH discovery page. Search\n",
    "> for \"TCIA-COVID-19_CT_Images\" in the [discovery page](https://brh.data-commons.org/discovery). Click on the study. In this case there is no project_id defined in the study description. Let's check the MIDRC MDS for project_id field.\n",
    "Note, this data needs to be re-ingested in the MDS. \n",
    "Testing using \"TCIA-COVID-19_CT_Images\" as the project ID to construct our query\n",
    "> You can learn about the fields parameter for imaging_data_file in the docs (search for \"imaging_data_file\" in the Schema) [here] (https://data.midrc.org/query)\n",
    "\n"
   ]
  },
  {
   "cell_type": "code",
   "execution_count": null,
   "id": "12b8d6d8-6eca-4a87-9622-1e47913154ad",
   "metadata": {
    "tags": []
   },
   "outputs": [],
   "source": [
    "commons_url = \"https://data.midrc.org\"\n",
    "auth = Gen3Auth(commons_url, refresh_file=\"/home/jovyan/.gen3/credentials.json\")\n",
    "sub = Gen3Submission(commons_url, auth) # Initialize an instance this class, using your creds in 'auth'\n",
    "query = Gen3Query(auth)"
   ]
  },
  {
   "cell_type": "code",
   "execution_count": null,
   "id": "4d97ded1-22c3-41d5-926d-47e71eeca8d4",
   "metadata": {
    "tags": []
   },
   "outputs": [],
   "source": [
    "# This project_id field is not in MIDRC MDS yet, so tcia_files returns empty results\n",
    "# This will be re-ingested in MIDRC and a project_id defined and then this query will\n",
    "# work"
   ]
  },
  {
   "cell_type": "code",
   "execution_count": null,
   "id": "213d4e0e-2936-4f5c-a25d-f28d7b17e3f8",
   "metadata": {
    "tags": []
   },
   "outputs": [],
   "source": [
    "tcia_files = query.query(\n",
    "    data_type=\"imaging_data_file\",\n",
    "    first=5,\n",
    "    fields=[\n",
    "        \"data_type\",\n",
    "        \"file_name\",\n",
    "        \"project_id\",\n",
    "        \"object_id\",\n",
    "        \"node_id\"\n",
    "    ],\n",
    "    filters={\"project_id\": \"TCIA-COVID-19_CT_Images\"}\n",
    ")"
   ]
  },
  {
   "cell_type": "code",
   "execution_count": null,
   "id": "028a9cee-da27-4a8e-8ee2-7386a3c03d9e",
   "metadata": {
    "tags": []
   },
   "outputs": [],
   "source": [
    "tcia_files"
   ]
  },
  {
   "cell_type": "code",
   "execution_count": null,
   "id": "f4037469-adcc-49cb-a17d-9039f14107ff",
   "metadata": {},
   "outputs": [],
   "source": []
  }
 ],
 "metadata": {
  "kernelspec": {
   "display_name": "Python 3 (ipykernel)",
   "language": "python",
   "name": "python3"
  },
  "language_info": {
   "codemirror_mode": {
    "name": "ipython",
    "version": 3
   },
   "file_extension": ".py",
   "mimetype": "text/x-python",
   "name": "python",
   "nbconvert_exporter": "python",
   "pygments_lexer": "ipython3",
   "version": "3.9.6"
  }
 },
 "nbformat": 4,
 "nbformat_minor": 5
}
