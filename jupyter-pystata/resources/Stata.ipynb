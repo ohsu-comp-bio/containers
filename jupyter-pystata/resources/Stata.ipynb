{
 "cells": [
  {
   "cell_type": "code",
   "execution_count": null,
   "metadata": {},
   "outputs": [],
   "source": [
    "import os\n",
    "import shutil\n",
    "if (os.path.isfile(f\"/home/{os.environ['NB_USER']}/pd/stata.lic\")\n",
    "    and not os.path.isfile(\"/usr/local/stata17/stata.lic\")):\n",
    "    shutil.copyfile(f\"/home/{os.environ['NB_USER']}/pd/stata.lic\", \"/usr/local/stata17/stata.lic\")\n",
    "\n",
    "import stata_setup\n",
    "stata_setup.config(\"/usr/local/stata17\", \"mp\")"
   ]
  }
 ],
 "metadata": {
  "kernelspec": {
   "display_name": "Python 3",
   "language": "python",
   "name": "python3"
  },
  "language_info": {
   "codemirror_mode": {
    "name": "ipython",
    "version": 3
   },
   "file_extension": ".py",
   "mimetype": "text/x-python",
   "name": "python",
   "nbconvert_exporter": "python",
   "pygments_lexer": "ipython3",
   "version": "3.8.6"
  }
 },
 "nbformat": 4,
 "nbformat_minor": 4
}
